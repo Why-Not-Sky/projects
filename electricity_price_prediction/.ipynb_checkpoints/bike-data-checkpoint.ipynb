{
 "cells": [
  {
   "cell_type": "code",
   "execution_count": 7,
   "metadata": {
    "collapsed": false
   },
   "outputs": [
    {
     "name": "stdout",
     "output_type": "stream",
     "text": [
      "Linear Model predictions: [(16.0, 117.89250386724845), (40.0, 116.2249612319211), (32.0, 116.02369145779234), (13.0, 115.67088016754433), (1.0, 115.56315650834316)]\n",
      "Linear Model - Mean Squared Error: 30679.4539\n"
     ]
    }
   ],
   "source": [
    "from pyspark import SparkContext\n",
    "from pyspark.mllib.regression import LabeledPoint\n",
    "import numpy as np\n",
    "from pyspark.mllib.regression import LinearRegressionWithSGD\n",
    "path = '/Users/lili/documents/data/Bike-Sharing-Dataset/hour_noheader.csv'\n",
    "sc = SparkContext() \n",
    "raw_data = sc.textFile(path)\n",
    "num_data = raw_data.count()\n",
    "records = raw_data.map(lambda x: x.split(\",\"))\n",
    "first = records.first()\n",
    "#print first\n",
    "#print num_data\n",
    "records.cache()\n",
    "def get_mapping(rdd, idx):\n",
    "    return rdd.map(lambda fields: fields[idx]).distinct().zipWithIndex().collectAsMap()\n",
    "#print \"Mapping of first categorical feasture column: %s\" % get_mapping(records, 2)\n",
    "mappings = [get_mapping(records, i) for i in range(2,10)]\n",
    "cat_len = sum(map(len, mappings))\n",
    "num_len = len(records.first()[11:15])\n",
    "total_len = num_len + cat_len\n",
    "#print \"Feature vector length for categorical features: %d\" % cat_len\n",
    "#print \"Feature vector length for numerical features: %d\" % num_len\n",
    "#print \"Total feature vector length: %d\" % total_len\n",
    "def extract_features(record):\n",
    "    cat_vec = np.zeros(cat_len)\n",
    "    i = 0\n",
    "    step = 0\n",
    "    for field in record[2:9]:\n",
    "        m = mappings[i]\n",
    "        idx = m[field]\n",
    "        cat_vec[idx + step] = 1\n",
    "        i = i + 1\n",
    "        step = step + len(m)\n",
    "    num_vec = np.array([float(field) for field in record[10:14]])\n",
    "    return np.concatenate((cat_vec, num_vec))\n",
    "def extract_label(record):\n",
    "    return float(record[-1])\n",
    "data = records.map(lambda r: LabeledPoint(extract_label(r), extract_features(r)))\n",
    "first_point = data.first()\n",
    "#print \"Raw data: \" + str(first[2:])\n",
    "#print \"Label: \" + str(first_point.label)\n",
    "#print \"Linear Model feature vector:\\n\" + str(first_point.features)\n",
    "#print \"Linear Model feature vector length: \" + str(len(first_point.features))\n",
    "linear_model = LinearRegressionWithSGD.train(data, iterations=10, step=0.1, intercept=False)\n",
    "true_vs_predicted = data.map(lambda p: (p.label, linear_model.predict(p.features)))\n",
    "print \"Linear Model predictions: \" + str(true_vs_predicted.take(5))\n",
    "def squared_error(actual, pred):\n",
    "    return (pred - actual)**2\n",
    "mse = true_vs_predicted.map(lambda (t, p): squared_error(t, p)).mean()\n",
    "print \"Linear Model - Mean Squared Error: %2.4f\" % mse\n",
    "sc.stop() "
   ]
  },
  {
   "cell_type": "code",
   "execution_count": null,
   "metadata": {
    "collapsed": true
   },
   "outputs": [],
   "source": []
  }
 ],
 "metadata": {
  "kernelspec": {
   "display_name": "Python 2",
   "language": "python",
   "name": "python2"
  },
  "language_info": {
   "codemirror_mode": {
    "name": "ipython",
    "version": 2
   },
   "file_extension": ".py",
   "mimetype": "text/x-python",
   "name": "python",
   "nbconvert_exporter": "python",
   "pygments_lexer": "ipython2",
   "version": "2.7.11"
  }
 },
 "nbformat": 4,
 "nbformat_minor": 0
}
