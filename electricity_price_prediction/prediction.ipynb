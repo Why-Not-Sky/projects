{
 "cells": [
  {
   "cell_type": "code",
   "execution_count": 1,
   "metadata": {
    "collapsed": false
   },
   "outputs": [
    {
     "name": "stdout",
     "output_type": "stream",
     "text": [
      "root\n",
      " |-- Date: long (nullable = true)\n",
      " |-- Name: string (nullable = true)\n",
      " |-- PTID: long (nullable = true)\n",
      " |-- LBMP: double (nullable = true)\n",
      " |-- Marginal_cost_losses: double (nullable = true)\n",
      " |-- Marginal_cost_congestion: double (nullable = true)\n",
      " |-- hour: long (nullable = true)\n",
      " |-- day_of_week: long (nullable = true)\n",
      " |-- holiday: boolean (nullable = true)\n",
      " |-- avg_price_past_day: double (nullable = true)\n",
      " |-- price_past_day: double (nullable = true)\n",
      " |-- price_past_week: double (nullable = true)\n",
      "\n",
      "index\tpearson\n",
      "6\t0.217282\n",
      "7\t-0.121769\n",
      "8\t-0.0144057\n",
      "9\t0.810446\n",
      "10\t0.848452\n",
      "11\t0.61357\n",
      "MSE = inf\n"
     ]
    },
    {
     "data": {
      "image/png": "[encoded data removed]",
      "text/plain": [
       "<matplotlib.figure.Figure at 0x106fcab90>"
      ]
     },
     "metadata": {},
     "output_type": "display_data"
    }
   ],
   "source": [
    "%matplotlib inline\n",
    "import settings\n",
    "import matplotlib.pylab as plt\n",
    "from pyspark import SparkContext\n",
    "from pyspark.sql import SQLContext, Row\n",
    "import pandas as pd\n",
    "from pandas.tseries.holiday import USFederalHolidayCalendar as calendar\n",
    "from pyspark.mllib.regression import LabeledPoint, LinearRegressionWithSGD\n",
    "from pyspark.mllib.evaluation import RegressionMetrics\n",
    "from pyspark.mllib.stat import Statistics\n",
    "\n",
    "def get_settings():\n",
    "    db_name = settings.DATABASE_NAME\n",
    "    table = settings.TABLE\n",
    "    db_user = settings.DATABASE_USER\n",
    "    db_pass = settings.DATABASE_PASS\n",
    "    zone_name_to_forecast = settings.ZONE_NAME_TO_FORECAST\n",
    "    return db_name, table, db_user, db_pass, zone_name_to_forecast    \n",
    "    \n",
    "def explore_data(db_name, table, db_user, db_pass, zone_name_to_forecast):\n",
    "    sc = SparkContext()\n",
    "    sqlContext = SQLContext(sc)\n",
    "    mysql_url = \"jdbc:mysql://localhost:3306/\"+db_name\n",
    "    df = sqlContext.read.format('jdbc').options(url=mysql_url, driver = \"com.mysql.jdbc.Driver\", dbtable=table, user=db_user, password=db_pass).load()\n",
    "    df_zone = df[df['Name'] == zone_name_to_forecast]\n",
    "    pandas_df = df_zone.toPandas()\n",
    "    pandas_df['Date'] = pd.to_datetime(pandas_df['Date'])\n",
    "    pandas_df['hour'] = pd.DatetimeIndex(pandas_df['Date']).hour\n",
    "    pandas_df['day_of_week'] = pandas_df['Date'].dt.dayofweek\n",
    "    cal = calendar()\n",
    "    holidays = cal.holidays(start=pandas_df['Date'].iloc[0], end=pandas_df['Date'].iloc[-1])\n",
    "    pandas_df['holiday'] = pandas_df['Date'].isin(holidays)\n",
    "    pandas_df['avg_price_past_day'] = pd.rolling_mean(pandas_df['LBMP'], window=24).shift(1)\n",
    "    pandas_df['price_past_day'] = pandas_df['LBMP'].shift(24)\n",
    "    pandas_df['price_past_week'] = pandas_df['LBMP'].shift(168)\n",
    "    plt.scatter(pandas_df.index, pandas_df['LBMP'])\n",
    "    pandas_df = pandas_df.dropna(axis=0)\n",
    "    spark_df = sqlContext.createDataFrame(pandas_df)\n",
    "    spark_df.printSchema()\n",
    "    data = spark_df.map(lambda p: LabeledPoint(p[3], p[6:]))\n",
    "    numFeatures = data.take(1)[0].features.size\n",
    "    labelRDD = data.map(lambda p: p.label)\n",
    "    corrType = 'pearson'\n",
    "    print '%s\\t%s' % ('index', 'pearson') \n",
    "    for i in range(numFeatures):\n",
    "        featureRDD = data.map(lambda p: p.features[i])\n",
    "        corr = Statistics.corr(labelRDD, featureRDD, corrType)\n",
    "        print '%d\\t%g' % (6+i, corr) \n",
    "    sc.stop()\n",
    "    return pandas_df\n",
    "\n",
    "def predict(pandas_df):\n",
    "    sc = SparkContext()\n",
    "    sqlContext = SQLContext(sc)\n",
    "    train_df = pandas_df[:-168]\n",
    "    test_df = pandas_df[-168:]\n",
    "    train = sqlContext.createDataFrame(train_df)\n",
    "    test = sqlContext.createDataFrame(test_df)\n",
    "    train_data = train.map(lambda p: LabeledPoint(p[3], p[9:]))\n",
    "    test_data = test.map(lambda p: LabeledPoint(p[3], p[9:]))\n",
    "    model = LinearRegressionWithSGD.train(train_data)\n",
    "    tp = test_data.map(lambda p: (float(model.predict(p.features)), p.label))\n",
    "    #print tp.collect()\n",
    "    #test_mse = tp.map(lambda (t, p): (t - p)**2).reduce(lambda x, y: x + y) / tp.count()\n",
    "    #print 'test mse', test_mse \n",
    "    metrics = RegressionMetrics(tp)\n",
    "    print \"MSE = %s\" % metrics.meanSquaredError\n",
    "    sc.stop()\n",
    "    \n",
    "def main():\n",
    "    db_name, table, db_user, db_pass, zone_name_to_forecast = get_settings()\n",
    "    pandas_df = explore_data(db_name, table, db_user, db_pass, zone_name_to_forecast)\n",
    "    predict(pandas_df)\n",
    "\n",
    "if __name__ == '__main__':\n",
    "    main()"
   ]
  },
  {
   "cell_type": "code",
   "execution_count": 2,
   "metadata": {
    "collapsed": true
   },
   "outputs": [],
   "source": []
  },
  {
   "cell_type": "code",
   "execution_count": null,
   "metadata": {
    "collapsed": true
   },
   "outputs": [],
   "source": []
  }
 ],
 "metadata": {
  "kernelspec": {
   "display_name": "Python 2",
   "language": "python",
   "name": "python2"
  },
  "language_info": {
   "codemirror_mode": {
    "name": "ipython",
    "version": 2
   },
   "file_extension": ".py",
   "mimetype": "text/x-python",
   "name": "python",
   "nbconvert_exporter": "python",
   "pygments_lexer": "ipython2",
   "version": "2.7.11"
  }
 },
 "nbformat": 4,
 "nbformat_minor": 0
}
